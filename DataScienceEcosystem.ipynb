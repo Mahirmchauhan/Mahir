{
 "cells": [
  {
   "cell_type": "markdown",
   "id": "eae651a2-4eb0-4a5c-8065-98f025088fcd",
   "metadata": {},
   "source": [
    "## Author:-Mahirkumar"
   ]
  },
  {
   "cell_type": "markdown",
   "id": "fcdeb94c-eb54-483e-aa74-b102abe36853",
   "metadata": {},
   "source": [
    "## Author:-Mahirkumar"
   ]
  },
  {
   "cell_type": "code",
   "execution_count": null,
   "id": "388129f8-081a-4513-a3f9-a3e11031550a",
   "metadata": {},
   "outputs": [],
   "source": [
    "# Data Science Tools and Ecosystem"
   ]
  },
  {
   "cell_type": "markdown",
   "id": "2ea550d6-1617-46c0-907f-b3d74f767db3",
   "metadata": {},
   "source": [
    "# Data Science Tools and Ecosystem"
   ]
  },
  {
   "cell_type": "code",
   "execution_count": 2,
   "id": "34611025-4f3d-4aa3-91d4-704139513b10",
   "metadata": {},
   "outputs": [
    {
     "name": "stdout",
     "output_type": "stream",
     "text": [
      "In this notebook, Data Science Tools and Ecosystem are summarized.\n"
     ]
    }
   ],
   "source": [
    "print(\"In this notebook, Data Science Tools and Ecosystem are summarized.\")"
   ]
  },
  {
   "cell_type": "code",
   "execution_count": null,
   "id": "0ce78b2f-c5f1-4d7b-8ecc-1a37e1c5b0dc",
   "metadata": {},
   "outputs": [],
   "source": [
    "***Objectives:***\n",
    "- List popular languages for Data Science\n",
    "- commonly used libraries\n",
    "- evaluating arithmetic expressions"
   ]
  },
  {
   "cell_type": "markdown",
   "id": "0ba9d369-ee0a-4341-a033-a713e3c8ad24",
   "metadata": {},
   "source": [
    "***Objectives:***\n",
    "- List popular languages for Data Science\n",
    "- commonly used libraries\n",
    "- evaluating arithmetic expressions"
   ]
  },
  {
   "cell_type": "code",
   "execution_count": null,
   "id": "2a1d2133-dd86-43ae-a3bc-97f923e49e44",
   "metadata": {},
   "outputs": [],
   "source": [
    "Some of the popular languages that Data Scientists use are:\n",
    "1. Python\n",
    "2. Scala\n",
    "3. R"
   ]
  },
  {
   "cell_type": "markdown",
   "id": "2d1ce4fc-b7b1-4cac-9437-8e114905cd40",
   "metadata": {},
   "source": [
    "Some of the popular languages that Data Scientists use are:\n",
    "1. Python\n",
    "2. Scala\n",
    "3. R"
   ]
  },
  {
   "cell_type": "code",
   "execution_count": null,
   "id": "61e354a7-962a-472a-ac40-31cdddd56ddb",
   "metadata": {},
   "outputs": [],
   "source": [
    "Some of the commonly used libraries used by Data Scientists include:\n",
    "-NumPy\n",
    "-Pandas\n",
    "-Matplotlib"
   ]
  },
  {
   "cell_type": "markdown",
   "id": "feefb48c-7dd4-416c-b6c0-26f662656689",
   "metadata": {},
   "source": [
    "Some of the commonly used libraries used by Data Scientists include:\n",
    "- NumPy\n",
    "- Pandas\n",
    "- Matplotlib"
   ]
  },
  {
   "cell_type": "code",
   "execution_count": null,
   "id": "2ea8608b-ef03-4c05-84a9-a02b53b40fe3",
   "metadata": {},
   "outputs": [],
   "source": [
    "a table of Data Science tools\n",
    "|Data Science Tools|\n",
    "|------|\n",
    "|RStudio|\n",
    "|TensorFlow|\n",
    "|Apache Spark|"
   ]
  },
  {
   "cell_type": "markdown",
   "id": "088cb01a-ec35-4bd1-aab6-de445a4bc3c1",
   "metadata": {},
   "source": [
    "a table of Data Science tools\n",
    "|Data Science Tools|\n",
    "|------|\n",
    "|RStudio|\n",
    "|TensorFlow|\n",
    "|Apache Spark|"
   ]
  },
  {
   "cell_type": "code",
   "execution_count": null,
   "id": "e6074d30-e9a1-4c78-a3c3-0eb9f1b05263",
   "metadata": {},
   "outputs": [],
   "source": [
    "### Below are a few examples of evaluating arithmetic expressions in Python"
   ]
  },
  {
   "cell_type": "markdown",
   "id": "27eb1ef3-c795-4485-8ca0-1dfc690e9b30",
   "metadata": {},
   "source": [
    "### Below are a few examples of evaluating arithmetic expressions in Python"
   ]
  },
  {
   "cell_type": "code",
   "execution_count": 4,
   "id": "2de8dac7-6d29-456b-94b9-bb5752427268",
   "metadata": {},
   "outputs": [
    {
     "name": "stdout",
     "output_type": "stream",
     "text": [
      "This a simple arithmetic expression to mutiply then add integers\n",
      "17\n"
     ]
    }
   ],
   "source": [
    "print(\"This a simple arithmetic expression to mutiply then add integers\")\n",
    "print((3*4)+5)"
   ]
  },
  {
   "cell_type": "code",
   "execution_count": 3,
   "id": "5db19ebb-8bfc-4d0e-8599-14accfd27577",
   "metadata": {},
   "outputs": [
    {
     "name": "stdout",
     "output_type": "stream",
     "text": [
      "This will convert 200 minutes to hours by diving by 60\n",
      "3.3333333333333335\n"
     ]
    }
   ],
   "source": [
    "print(\"This will convert 200 minutes to hours by diving by 60\")\n",
    "print(200/60)"
   ]
  },
  {
   "cell_type": "code",
   "execution_count": null,
   "id": "f2fecdf5-c0f4-45c9-8168-9b8a772ba687",
   "metadata": {},
   "outputs": [],
   "source": []
  }
 ],
 "metadata": {
  "kernelspec": {
   "display_name": "Python 3 (ipykernel)",
   "language": "python",
   "name": "python3"
  },
  "language_info": {
   "codemirror_mode": {
    "name": "ipython",
    "version": 3
   },
   "file_extension": ".py",
   "mimetype": "text/x-python",
   "name": "python",
   "nbconvert_exporter": "python",
   "pygments_lexer": "ipython3",
   "version": "3.12.7"
  }
 },
 "nbformat": 4,
 "nbformat_minor": 5
}
